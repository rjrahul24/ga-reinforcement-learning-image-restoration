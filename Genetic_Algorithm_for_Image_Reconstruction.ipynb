{
  "nbformat": 4,
  "nbformat_minor": 0,
  "metadata": {
    "colab": {
      "name": "Genetic Algorithm for Image Reconstruction.ipynb",
      "provenance": [],
      "authorship_tag": "ABX9TyN9Xsm6dUMWfcMdB4pL/X3B",
      "include_colab_link": true
    },
    "kernelspec": {
      "name": "python3",
      "display_name": "Python 3"
    },
    "language_info": {
      "name": "python"
    }
  },
  "cells": [
    {
      "cell_type": "markdown",
      "metadata": {
        "id": "view-in-github",
        "colab_type": "text"
      },
      "source": [
        "<a href=\"https://colab.research.google.com/github/rjrahul24/ga-reinforcement-learning-image-restoration/blob/main/Genetic_Algorithm_for_Image_Reconstruction.ipynb\" target=\"_parent\"><img src=\"https://colab.research.google.com/assets/colab-badge.svg\" alt=\"Open In Colab\"/></a>"
      ]
    },
    {
      "cell_type": "markdown",
      "metadata": {
        "id": "M04ITHR-msl2"
      },
      "source": [
        "**Genetic Algorithm Implementation**\n",
        "\n"
      ]
    },
    {
      "cell_type": "code",
      "metadata": {
        "id": "lz0nz1JFmS9o"
      },
      "source": [
        "# This project is referenced from a package - PyGrad that was created by Ahmed Gad and has been open-sourced. Special mention and credits to his article and tutorial on GA - https://www.linkedin.com/pulse/genetic-algorithm-implementation-python-ahmed-gad/ \n",
        "# We need two additional packages to be installed to work with Genetic Algorithms"
      ],
      "execution_count": 3,
      "outputs": []
    },
    {
      "cell_type": "code",
      "metadata": {
        "colab": {
          "base_uri": "https://localhost:8080/"
        },
        "id": "qa7a4LYjmrnH",
        "outputId": "12245a72-e3b2-49d3-ae92-7c3f51c0f895"
      },
      "source": [
        "pip install pygad"
      ],
      "execution_count": 4,
      "outputs": [
        {
          "output_type": "stream",
          "text": [
            "Collecting pygad\n",
            "\u001b[?25l  Downloading https://files.pythonhosted.org/packages/a7/61/ff12b12a8655e77e1a674a6c3941f00b9987592deaf7190436baab002db1/pygad-2.14.3-py3-none-any.whl (46kB)\n",
            "\r\u001b[K     |███████                         | 10kB 15.6MB/s eta 0:00:01\r\u001b[K     |██████████████                  | 20kB 7.3MB/s eta 0:00:01\r\u001b[K     |█████████████████████           | 30kB 7.7MB/s eta 0:00:01\r\u001b[K     |████████████████████████████    | 40kB 7.2MB/s eta 0:00:01\r\u001b[K     |████████████████████████████████| 51kB 2.5MB/s \n",
            "\u001b[?25hRequirement already satisfied: numpy in /usr/local/lib/python3.7/dist-packages (from pygad) (1.19.5)\n",
            "Requirement already satisfied: matplotlib in /usr/local/lib/python3.7/dist-packages (from pygad) (3.2.2)\n",
            "Requirement already satisfied: kiwisolver>=1.0.1 in /usr/local/lib/python3.7/dist-packages (from matplotlib->pygad) (1.3.1)\n",
            "Requirement already satisfied: cycler>=0.10 in /usr/local/lib/python3.7/dist-packages (from matplotlib->pygad) (0.10.0)\n",
            "Requirement already satisfied: python-dateutil>=2.1 in /usr/local/lib/python3.7/dist-packages (from matplotlib->pygad) (2.8.1)\n",
            "Requirement already satisfied: pyparsing!=2.0.4,!=2.1.2,!=2.1.6,>=2.0.1 in /usr/local/lib/python3.7/dist-packages (from matplotlib->pygad) (2.4.7)\n",
            "Requirement already satisfied: six in /usr/local/lib/python3.7/dist-packages (from cycler>=0.10->matplotlib->pygad) (1.15.0)\n",
            "Installing collected packages: pygad\n",
            "Successfully installed pygad-2.14.3\n"
          ],
          "name": "stdout"
        }
      ]
    },
    {
      "cell_type": "code",
      "metadata": {
        "id": "ZmYdjCbrx-5P"
      },
      "source": [
        "import numpy\n",
        "import functools\n",
        "import operator\n",
        "import matplotlib.pyplot\n",
        "# Importing imageio to read the input image file\n",
        "# More information about the pygad PyPI package here: https://pypi.org/project/pygad/\n",
        "import imageio\n",
        "import pygad"
      ],
      "execution_count": 6,
      "outputs": []
    },
    {
      "cell_type": "code",
      "metadata": {
        "id": "MI9rQbanm6RX"
      },
      "source": [
        "input_image = imageio.imread('./rose.png')\n",
        "input_image = numpy.asarray(input_image/255, dtype=numpy.float)"
      ],
      "execution_count": 11,
      "outputs": []
    },
    {
      "cell_type": "code",
      "metadata": {
        "id": "fT-WbriQx6gy"
      },
      "source": [
        "# We represent the image as a one-dimensional vector and return it\n",
        "def image_to_vector(img_array):\n",
        "    return numpy.reshape(a=img_array, newshape=(functools.reduce(operator.mul, img_array.shape)))\n",
        "# Convert the one-dimensional vector to an array\n",
        "def vector_to_array(input_vector, shape):\n",
        "    # Checking whether reshaping is possible\n",
        "    if len(input_vector) != functools.reduce(operator.mul, shape):\n",
        "        raise ValueError(\"Reshaping failed\")\n",
        "    return numpy.reshape(a=input_vector, newshape=shape)"
      ],
      "execution_count": 12,
      "outputs": []
    },
    {
      "cell_type": "code",
      "metadata": {
        "id": "XmV7dWDf0BQW"
      },
      "source": [
        "# Target image after enconding. Value encoding is used.\n",
        "image_encode = image_to_vector(input_image)\n",
        "# We now calculate the fitness value for a solution from the population.\n",
        "# The sum of absolute differences between individual genes values gives us the fitness value required.\n",
        "def fitness_func(int_one, int_two):\n",
        "    fitness_value = numpy.sum(numpy.abs(image_encode-int_one))\n",
        "    # Negate the fitness value to turn it from decreasing to increasing\n",
        "    fitness_value = numpy.sum(image_encode) - fitness_value\n",
        "    return fitness_value\n"
      ],
      "execution_count": 13,
      "outputs": []
    },
    {
      "cell_type": "code",
      "metadata": {
        "id": "_9x_Ipr40Fas"
      },
      "source": [
        ""
      ],
      "execution_count": null,
      "outputs": []
    }
  ]
}